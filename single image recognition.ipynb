{
 "cells": [
  {
   "cell_type": "markdown",
   "metadata": {},
   "source": [
    "# Face Recognition and Verification in an Image"
   ]
  },
  {
   "cell_type": "markdown",
   "metadata": {},
   "source": [
    "## Required Libraries"
   ]
  },
  {
   "cell_type": "code",
   "execution_count": 5,
   "metadata": {},
   "outputs": [],
   "source": [
    "import face_recognition\n",
    "import pickle\n",
    "import cv2\n",
    "import imutils"
   ]
  },
  {
   "cell_type": "markdown",
   "metadata": {},
   "source": [
    "## About the Code \n",
    "\n",
    "```\n",
    "with open(\"face-labels-single.pickle\", 'rb') as f:\n",
    "```\n",
    "First we load in the dictionary with the list of encodings and labels for verification\n",
    "\n",
    "Next we read the image we want to recognize into a variable and resize it to 480px(for faster processing). Then, we convert it\n",
    "to an RGB format.\n",
    "\n",
    "After that we retrieve the faces in the form of coordinates using ```face_recognition.face_locations()``` and since we only have to process 1 image we can afford to use cnn as our model for face detection.\n",
    "The ```number_of_times_to_upsample``` parameter(optional) essentially tells the code to look for smaller faces(default is 1). Would recommend to let it be 1 as it often leads to false positives when you're trying to detect smaller faces. \n",
    "\n",
    "\n",
    "NOW, once we have all the encodings i.e all the faces detected we try and and match them with the known faces encodings\n",
    "\n",
    "### How we do this you ask?\n",
    "\n",
    "We compare the encoding from the image with known ones by calculating the <b>Euclidian Distance</b>\n",
    "\n",
    "Euclidean distance is the length of a straight line between two vectors in Euclidean space. i.e. \n",
    "\n",
    "<img src=\"http://mathworld.wolfram.com/images/equations/Distance/NumberedEquation3.gif\">\n",
    "\n",
    "Once we compare them we classify them as match or not for all of the encodings through the following code\n",
    "\n",
    "```matches = face_recognition.compare_faces(data[\"encodings\"],encoding,tolerance=0.45)```\n",
    "\n",
    "        \n",
    "The ``` tolerance ``` acts as the threshold for comparison , if the Euclidiean distance is less than 0.45 then the encoding is classified as a match(True) else not a match(fals)\n",
    "\n",
    "Hence matches is a grid of size (known faces * encodings found in the image). Next we parse through the grid and find out which encoding has the maximum number of matches and classify that as our found face.\n",
    "\n",
    "Finally we take all the faces verfied and print them on the image.\n",
    "\n",
    "#### That's it folks! We have a Face Verification Program\n"
   ]
  },
  {
   "cell_type": "code",
   "execution_count": 7,
   "metadata": {},
   "outputs": [
    {
     "data": {
      "text/plain": [
       "-1"
      ]
     },
     "execution_count": 7,
     "metadata": {},
     "output_type": "execute_result"
    }
   ],
   "source": [
    "with open(\"face-labels-single.pickle\", 'rb') as f:\n",
    "    data = pickle.load(f)\n",
    "\n",
    "# load the input image and convert it from BGR to RGB\n",
    "image = cv2.imread(\"C:/Users/Vansh/Desktop/b.jpg\")\n",
    "image = imutils.resize(image, width=480)\n",
    "rgb = cv2.cvtColor(image, cv2.COLOR_BGR2RGB)\n",
    "\n",
    "# detect the (x, y)-coordinates of the bounding boxes corresponding\n",
    "# to each face in the input image, then compute the facial embeddings\n",
    "# for each face\n",
    "boxes = face_recognition.face_locations(rgb,number_of_times_to_upsample=1,model='cnn')\n",
    "encodings = face_recognition.face_encodings(rgb, boxes)\n",
    "\n",
    "# initialize the list of names for each face detected\n",
    "names = []\n",
    "\n",
    "# loop over the facial embeddings\n",
    "for encoding in encodings:\n",
    "    # attempt to match each face in the input image to our known\n",
    "    # encodings\n",
    "    matches = face_recognition.compare_faces(data[\"encodings\"],\n",
    "        encoding,tolerance=0.45)\n",
    "    name = \"Unknown\"\n",
    "\n",
    "    # check to see if we have found a match\n",
    "    if True in matches:\n",
    "        # find the indexes of all matched faces then initialize a\n",
    "        # dictionary to count the total number of times each face\n",
    "        # was matched\n",
    "        matchedIdxs = [i for (i, b) in enumerate(matches) if b]\n",
    "        counts = {}\n",
    "\n",
    "        # loop over the matched indexes and maintain a count for\n",
    "        # each recognized face face\n",
    "        for i in matchedIdxs:\n",
    "            name = data[\"names\"][i]\n",
    "            counts[name] = counts.get(name, 0) + 1\n",
    "\n",
    "        # determine the recognized face with the largest number of\n",
    "        # votes (note: in the event of an unlikely tie Python will\n",
    "        # select first entry in the dictionary)\n",
    "        name = max(counts, key=counts.get)\n",
    "\n",
    "    # update the list of names\n",
    "    names.append(name)\n",
    "\n",
    "# loop over the recognized faces\n",
    "for ((top, right, bottom, left), name) in zip(boxes, names):\n",
    "    # draw the predicted face name on the image\n",
    "    cv2.rectangle(image, (left, top), (right, bottom), (0, 255, 0), 2)\n",
    "    y = top - 15 if top - 15 > 15 else top + 15\n",
    "    cv2.putText(image, name, (left, y), cv2.FONT_HERSHEY_SIMPLEX, 0.75, (0, 255, 0), 2)\n",
    "\n",
    "# show the output image\n",
    "cv2.imshow(\"Image\", image)\n",
    "cv2.waitKey(0)"
   ]
  },
  {
   "cell_type": "code",
   "execution_count": null,
   "metadata": {},
   "outputs": [],
   "source": []
  }
 ],
 "metadata": {
  "kernelspec": {
   "display_name": "Python 3",
   "language": "python",
   "name": "python3"
  },
  "language_info": {
   "codemirror_mode": {
    "name": "ipython",
    "version": 3
   },
   "file_extension": ".py",
   "mimetype": "text/x-python",
   "name": "python",
   "nbconvert_exporter": "python",
   "pygments_lexer": "ipython3",
   "version": "3.6.5"
  }
 },
 "nbformat": 4,
 "nbformat_minor": 2
}
